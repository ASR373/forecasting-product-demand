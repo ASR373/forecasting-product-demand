{
 "cells": [
  {
   "cell_type": "code",
   "execution_count": 8,
   "id": "09003b7c-88dd-4bfa-bc42-4e151d30bc9a",
   "metadata": {},
   "outputs": [
    {
     "name": "stdout",
     "output_type": "stream",
     "text": [
      "   id        date  store_nbr      family  sales  onpromotion\n",
      "0   0  2013-01-01          1  AUTOMOTIVE    0.0            0\n",
      "1   1  2013-01-01          1   BABY CARE    0.0            0\n",
      "2   2  2013-01-01          1      BEAUTY    0.0            0\n",
      "3   3  2013-01-01          1   BEVERAGES    0.0            0\n",
      "4   4  2013-01-01          1       BOOKS    0.0            0\n",
      "Index(['id', 'date', 'store_nbr', 'family', 'sales', 'onpromotion'], dtype='object')\n"
     ]
    }
   ],
   "source": [
    "import pandas as pd\n",
    "\n",
    "df = pd.read_csv(\"data/train.csv\")\n",
    "print(df.head())\n",
    "print(df.columns)"
   ]
  },
  {
   "cell_type": "code",
   "execution_count": null,
   "id": "ccac4024-78da-4dc0-b378-f725971b54a3",
   "metadata": {},
   "outputs": [],
   "source": []
  },
  {
   "cell_type": "code",
   "execution_count": 9,
   "id": "0b1fe988-cc05-4f91-a398-356e4d73f58d",
   "metadata": {},
   "outputs": [
    {
     "name": "stdout",
     "output_type": "stream",
     "text": [
      "done\n"
     ]
    }
   ],
   "source": [
    "# Drop missing sales\n",
    "df = df.dropna(subset=[\"sales\"])\n",
    "\n",
    "# Create item_id as a string like 'store_1_family_Beverages'\n",
    "df[\"item_id\"] = df[\"store_nbr\"].astype(str) + \"_family_\" + df[\"family\"]\n",
    "\n",
    "# Rename columns\n",
    "df.rename(columns={\"date\": \"timestamp\", \"sales\": \"target_value\"}, inplace=True)\n",
    "\n",
    "# Select only required columns\n",
    "forecast_df = df[[\"item_id\", \"timestamp\", \"target_value\"]]\n",
    "\n",
    "# Save to CSV\n",
    "forecast_df.to_csv(\"data/01_train_forecast_ready.csv\", index=False)\n",
    "\n",
    "print(\"done\")\n"
   ]
  },
  {
   "cell_type": "code",
   "execution_count": null,
   "id": "a3e5ff23-75f8-4efe-bc0b-050c13d79fbb",
   "metadata": {},
   "outputs": [],
   "source": []
  }
 ],
 "metadata": {
  "kernelspec": {
   "display_name": "Python 3 (ipykernel)",
   "language": "python",
   "name": "python3"
  },
  "language_info": {
   "codemirror_mode": {
    "name": "ipython",
    "version": 3
   },
   "file_extension": ".py",
   "mimetype": "text/x-python",
   "name": "python",
   "nbconvert_exporter": "python",
   "pygments_lexer": "ipython3",
   "version": "3.12.4"
  }
 },
 "nbformat": 4,
 "nbformat_minor": 5
}
